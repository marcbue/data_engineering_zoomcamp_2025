{
 "cells": [
  {
   "cell_type": "code",
   "execution_count": 66,
   "metadata": {},
   "outputs": [],
   "source": [
    "import os\n",
    "from pathlib import Path\n",
    "from dotenv import load_dotenv\n",
    "import findspark\n",
    "env_path = Path(os.getenv(\"HOME\")) / \"data_engineering_zoomcamp_2025\" / \"5_batch\" / \".env\"\n",
    "load_dotenv(dotenv_path=env_path)\n",
    "findspark.init()"
   ]
  },
  {
   "cell_type": "code",
   "execution_count": 67,
   "metadata": {},
   "outputs": [],
   "source": [
    "import pyspark\n",
    "from pyspark.sql import SparkSession"
   ]
  },
  {
   "cell_type": "code",
   "execution_count": 68,
   "metadata": {},
   "outputs": [
    {
     "name": "stdout",
     "output_type": "stream",
     "text": [
      "3.3.2\n"
     ]
    }
   ],
   "source": [
    "print(pyspark.__version__)"
   ]
  },
  {
   "cell_type": "code",
   "execution_count": 69,
   "metadata": {},
   "outputs": [],
   "source": [
    "spark = SparkSession.builder \\\n",
    "    .master(\"local[*]\") \\\n",
    "    .appName('test') \\\n",
    "    .getOrCreate()"
   ]
  },
  {
   "cell_type": "code",
   "execution_count": 70,
   "metadata": {},
   "outputs": [
    {
     "data": {
      "text/plain": [
       "'3.3.2'"
      ]
     },
     "execution_count": 70,
     "metadata": {},
     "output_type": "execute_result"
    }
   ],
   "source": [
    "spark.version"
   ]
  },
  {
   "cell_type": "code",
   "execution_count": 71,
   "metadata": {},
   "outputs": [],
   "source": [
    "from pyspark.sql import types"
   ]
  },
  {
   "cell_type": "code",
   "execution_count": 72,
   "metadata": {},
   "outputs": [],
   "source": [
    "df = spark.read \\\n",
    "    .option(\"header\", \"true\") \\\n",
    "    .parquet('./data/homework/yellow_tripdata_2024-10.parquet')"
   ]
  },
  {
   "cell_type": "code",
   "execution_count": 73,
   "metadata": {},
   "outputs": [
    {
     "data": {
      "text/plain": [
       "[Row(VendorID=2, tpep_pickup_datetime=datetime.datetime(2024, 10, 1, 2, 30, 44), tpep_dropoff_datetime=datetime.datetime(2024, 10, 1, 2, 48, 26), passenger_count=1, trip_distance=3.0, RatecodeID=1, store_and_fwd_flag='N', PULocationID=162, DOLocationID=246, payment_type=1, fare_amount=18.4, extra=1.0, mta_tax=0.5, tip_amount=1.5, tolls_amount=0.0, improvement_surcharge=1.0, total_amount=24.9, congestion_surcharge=2.5, Airport_fee=0.0),\n",
       " Row(VendorID=1, tpep_pickup_datetime=datetime.datetime(2024, 10, 1, 2, 12, 20), tpep_dropoff_datetime=datetime.datetime(2024, 10, 1, 2, 25, 25), passenger_count=1, trip_distance=2.2, RatecodeID=1, store_and_fwd_flag='N', PULocationID=48, DOLocationID=236, payment_type=1, fare_amount=14.2, extra=3.5, mta_tax=0.5, tip_amount=3.8, tolls_amount=0.0, improvement_surcharge=1.0, total_amount=23.0, congestion_surcharge=2.5, Airport_fee=0.0),\n",
       " Row(VendorID=1, tpep_pickup_datetime=datetime.datetime(2024, 10, 1, 2, 4, 46), tpep_dropoff_datetime=datetime.datetime(2024, 10, 1, 2, 13, 52), passenger_count=1, trip_distance=2.7, RatecodeID=1, store_and_fwd_flag='N', PULocationID=142, DOLocationID=24, payment_type=1, fare_amount=13.5, extra=3.5, mta_tax=0.5, tip_amount=3.7, tolls_amount=0.0, improvement_surcharge=1.0, total_amount=22.2, congestion_surcharge=2.5, Airport_fee=0.0),\n",
       " Row(VendorID=1, tpep_pickup_datetime=datetime.datetime(2024, 10, 1, 2, 12, 10), tpep_dropoff_datetime=datetime.datetime(2024, 10, 1, 2, 23, 1), passenger_count=1, trip_distance=3.1, RatecodeID=1, store_and_fwd_flag='N', PULocationID=233, DOLocationID=75, payment_type=1, fare_amount=14.2, extra=3.5, mta_tax=0.5, tip_amount=2.0, tolls_amount=0.0, improvement_surcharge=1.0, total_amount=21.2, congestion_surcharge=2.5, Airport_fee=0.0),\n",
       " Row(VendorID=1, tpep_pickup_datetime=datetime.datetime(2024, 10, 1, 2, 30, 22), tpep_dropoff_datetime=datetime.datetime(2024, 10, 1, 2, 30, 39), passenger_count=1, trip_distance=0.0, RatecodeID=1, store_and_fwd_flag='N', PULocationID=262, DOLocationID=262, payment_type=3, fare_amount=3.0, extra=3.5, mta_tax=0.5, tip_amount=0.0, tolls_amount=0.0, improvement_surcharge=1.0, total_amount=8.0, congestion_surcharge=2.5, Airport_fee=0.0),\n",
       " Row(VendorID=2, tpep_pickup_datetime=datetime.datetime(2024, 10, 1, 2, 31, 20), tpep_dropoff_datetime=datetime.datetime(2024, 10, 1, 2, 36), passenger_count=2, trip_distance=0.97, RatecodeID=1, store_and_fwd_flag='N', PULocationID=137, DOLocationID=137, payment_type=1, fare_amount=7.2, extra=1.0, mta_tax=0.5, tip_amount=2.44, tolls_amount=0.0, improvement_surcharge=1.0, total_amount=14.64, congestion_surcharge=2.5, Airport_fee=0.0),\n",
       " Row(VendorID=1, tpep_pickup_datetime=datetime.datetime(2024, 10, 1, 2, 42, 57), tpep_dropoff_datetime=datetime.datetime(2024, 10, 1, 2, 49, 1), passenger_count=1, trip_distance=1.3, RatecodeID=1, store_and_fwd_flag='N', PULocationID=142, DOLocationID=48, payment_type=1, fare_amount=7.9, extra=3.5, mta_tax=0.5, tip_amount=2.55, tolls_amount=0.0, improvement_surcharge=1.0, total_amount=15.45, congestion_surcharge=2.5, Airport_fee=0.0),\n",
       " Row(VendorID=1, tpep_pickup_datetime=datetime.datetime(2024, 10, 1, 2, 59, 55), tpep_dropoff_datetime=datetime.datetime(2024, 10, 1, 3, 2, 24), passenger_count=1, trip_distance=0.5, RatecodeID=1, store_and_fwd_flag='N', PULocationID=230, DOLocationID=161, payment_type=1, fare_amount=5.1, extra=3.5, mta_tax=0.5, tip_amount=2.0, tolls_amount=0.0, improvement_surcharge=1.0, total_amount=12.1, congestion_surcharge=2.5, Airport_fee=0.0),\n",
       " Row(VendorID=1, tpep_pickup_datetime=datetime.datetime(2024, 10, 1, 2, 0, 47), tpep_dropoff_datetime=datetime.datetime(2024, 10, 1, 2, 4, 22), passenger_count=0, trip_distance=1.1, RatecodeID=1, store_and_fwd_flag='N', PULocationID=142, DOLocationID=237, payment_type=1, fare_amount=7.2, extra=3.5, mta_tax=0.5, tip_amount=3.0, tolls_amount=0.0, improvement_surcharge=1.0, total_amount=15.2, congestion_surcharge=2.5, Airport_fee=0.0),\n",
       " Row(VendorID=1, tpep_pickup_datetime=datetime.datetime(2024, 10, 1, 2, 17, 36), tpep_dropoff_datetime=datetime.datetime(2024, 10, 1, 2, 26, 22), passenger_count=1, trip_distance=2.2, RatecodeID=1, store_and_fwd_flag='N', PULocationID=162, DOLocationID=145, payment_type=1, fare_amount=11.4, extra=3.5, mta_tax=0.5, tip_amount=3.3, tolls_amount=0.0, improvement_surcharge=1.0, total_amount=19.7, congestion_surcharge=2.5, Airport_fee=0.0)]"
      ]
     },
     "execution_count": 73,
     "metadata": {},
     "output_type": "execute_result"
    }
   ],
   "source": [
    "df.head(10)"
   ]
  },
  {
   "cell_type": "code",
   "execution_count": 74,
   "metadata": {},
   "outputs": [
    {
     "name": "stderr",
     "output_type": "stream",
     "text": [
      "                                                                                \r"
     ]
    }
   ],
   "source": [
    "output_path = \"./data/pq/homework\"\n",
    "\n",
    "\n",
    "df \\\n",
    "    .repartition(4) \\\n",
    "    .write.parquet(output_path, mode='overwrite')"
   ]
  },
  {
   "cell_type": "code",
   "execution_count": 75,
   "metadata": {},
   "outputs": [],
   "source": [
    "from pyspark.sql import functions as F"
   ]
  },
  {
   "cell_type": "code",
   "execution_count": 76,
   "metadata": {},
   "outputs": [],
   "source": [
    "df = df \\\n",
    "    .withColumnRenamed('tpep_pickup_datetime', 'pickup_datetime') \\\n",
    "    .withColumnRenamed('tpep_dropoff_datetime', 'dropoff_datetime')"
   ]
  },
  {
   "cell_type": "code",
   "execution_count": 77,
   "metadata": {},
   "outputs": [],
   "source": [
    "df = df \\\n",
    "    .withColumn('pickup_date', F.to_date(df.pickup_datetime))\\\n",
    "    .withColumn('dropoff_date', F.to_date(df.dropoff_datetime))"
   ]
  },
  {
   "cell_type": "code",
   "execution_count": 78,
   "metadata": {},
   "outputs": [
    {
     "data": {
      "text/plain": [
       "125567"
      ]
     },
     "execution_count": 78,
     "metadata": {},
     "output_type": "execute_result"
    }
   ],
   "source": [
    "df \\\n",
    "    .filter(df.pickup_date == '2024-10-15')\\\n",
    "    .select('pickup_date', 'dropoff_date', 'PULocationID', 'DOLocationID')\\\n",
    "    .count()"
   ]
  },
  {
   "cell_type": "code",
   "execution_count": 79,
   "metadata": {},
   "outputs": [],
   "source": [
    "df = df \\\n",
    "    .withColumn('trip_duration_hours', (F.unix_timestamp(df.dropoff_datetime) - F.unix_timestamp(df.pickup_datetime))/3600)"
   ]
  },
  {
   "cell_type": "code",
   "execution_count": 80,
   "metadata": {},
   "outputs": [
    {
     "name": "stdout",
     "output_type": "stream",
     "text": [
      "+--------+-------------------+-------------------+---------------+-------------+----------+------------------+------------+------------+------------+-----------+-----+-------+----------+------------+---------------------+------------+--------------------+-----------+-----------+------------+-------------------+\n",
      "|VendorID|    pickup_datetime|   dropoff_datetime|passenger_count|trip_distance|RatecodeID|store_and_fwd_flag|PULocationID|DOLocationID|payment_type|fare_amount|extra|mta_tax|tip_amount|tolls_amount|improvement_surcharge|total_amount|congestion_surcharge|Airport_fee|pickup_date|dropoff_date|trip_duration_hours|\n",
      "+--------+-------------------+-------------------+---------------+-------------+----------+------------------+------------+------------+------------+-----------+-----+-------+----------+------------+---------------------+------------+--------------------+-----------+-----------+------------+-------------------+\n",
      "|       2|2024-10-16 15:03:49|2024-10-23 09:40:53|              1|        32.37|         3|                 N|          48|         265|           2|      152.5|  0.0|    0.0|       0.0|       17.38|                  1.0|      170.88|                 0.0|        0.0| 2024-10-16|  2024-10-23| 162.61777777777777|\n",
      "|       2|2024-10-03 20:47:25|2024-10-09 20:06:55|              1|          0.0|         2|                 N|         100|         100|           2|       70.0|  5.0|    0.5|       0.0|         0.0|                  1.0|        79.0|                 2.5|        0.0| 2024-10-03|  2024-10-09|            143.325|\n",
      "|       2|2024-10-22 18:00:55|2024-10-28 10:46:33|              1|          0.0|         1|                 N|         186|         226|           2|       27.5|  2.5|    0.5|       0.0|         0.0|                  1.0|        34.0|                 2.5|        0.0| 2024-10-22|  2024-10-28| 137.76055555555556|\n",
      "|       2|2024-10-18 11:53:32|2024-10-23 06:43:37|              1|        12.37|         1|                 N|         116|         163|           2|       46.4|  5.0|    0.5|       0.0|        6.94|                  1.0|       59.84|                 0.0|        0.0| 2024-10-18|  2024-10-23| 114.83472222222223|\n",
      "|       2|2024-10-21 02:36:24|2024-10-24 20:30:18|              1|         0.03|         2|                 N|         122|         138|           2|       70.0|  0.0|    0.5|       0.0|         0.0|                  1.0|        71.5|                 0.0|        0.0| 2024-10-21|  2024-10-24|  89.89833333333333|\n",
      "|       2|2024-10-20 15:30:52|2024-10-24 08:57:38|              1|         1.88|         1|                 N|         237|         119|           2|       16.3|  0.0|    0.5|       0.0|         0.0|                  1.0|        20.3|                 2.5|        0.0| 2024-10-20|  2024-10-24|  89.44611111111111|\n",
      "|       2|2024-10-22 18:04:52|2024-10-25 16:22:49|              1|         0.38|         1|                 N|         236|         193|           2|        7.9|  2.5|    0.5|       0.0|         0.0|                  1.0|        14.4|                 2.5|        0.0| 2024-10-22|  2024-10-25|  70.29916666666666|\n",
      "|       2|2024-10-12 21:32:51|2024-10-15 17:07:15|              1|         0.53|         1|                 N|         161|         138|           2|       12.8|  0.0|    0.5|       0.0|         0.0|                  1.0|        16.8|                 2.5|        0.0| 2024-10-12|  2024-10-15|  67.57333333333334|\n",
      "|       2|2024-10-17 19:58:18|2024-10-20 14:02:18|              1|         4.94|         1|                 N|         186|          85|           2|       33.1|  2.5|    0.5|       0.0|         0.0|                  1.0|        39.6|                 2.5|        0.0| 2024-10-17|  2024-10-20|  66.06666666666666|\n",
      "|       2|2024-10-21 16:28:21|2024-10-23 14:53:42|              1|          0.0|         2|                 N|         261|          33|           2|       70.0|  0.0|    0.5|       0.0|         0.0|                  1.0|        74.0|                 2.5|        0.0| 2024-10-21|  2024-10-23|            46.4225|\n",
      "|       2|2024-10-20 20:58:28|2024-10-22 15:17:00|              1|         3.84|         1|                 N|         132|         130|           2|       70.2|  0.0|    0.5|       0.0|         0.0|                  1.0|       73.45|                 0.0|       1.75| 2024-10-20|  2024-10-22|  42.30888888888889|\n",
      "|       2|2024-10-24 22:29:58|2024-10-26 12:58:25|              1|         9.85|         1|                 N|         138|          97|           2|       40.1|  6.0|    0.5|       0.0|         0.0|                  1.0|       49.35|                 0.0|       1.75| 2024-10-24|  2024-10-26|  38.47416666666667|\n",
      "|       2|2024-10-24 01:52:02|2024-10-25 11:49:06|              1|          0.0|         5|                 N|         216|         138|           2|       35.0|  0.0|    0.0|       0.0|         0.0|                  1.0|        36.0|                 0.0|        0.0| 2024-10-24|  2024-10-25|  33.95111111111111|\n",
      "|       2|2024-10-02 12:36:50|2024-10-03 14:54:45|              1|         0.96|         1|                 N|         230|         132|           2|       12.1|  0.0|    0.5|       0.0|         0.0|                  1.0|        16.1|                 2.5|        0.0| 2024-10-02|  2024-10-03|  26.29861111111111|\n",
      "|       2|2024-10-15 00:39:53|2024-10-16 01:57:22|              1|          4.8|         1|                 N|          13|         132|           2|       24.7|  1.0|    0.5|       0.0|         0.0|                  1.0|        29.7|                 2.5|        0.0| 2024-10-15|  2024-10-16|  25.29138888888889|\n",
      "|       2|2024-10-15 13:49:15|2024-10-16 15:03:33|              1|          0.0|         2|                 N|          48|          48|           2|       70.0|  0.0|    0.5|       0.0|         0.0|                  1.0|        74.0|                 2.5|        0.0| 2024-10-15|  2024-10-16| 25.238333333333333|\n",
      "|       2|2024-10-23 13:22:58|2024-10-24 13:51:10|              1|          0.0|         1|                 N|         207|         193|           2|        3.0|  0.0|    0.5|       0.0|         0.0|                  1.0|         4.5|                 0.0|        0.0| 2024-10-23|  2024-10-24|              24.47|\n",
      "|       2|2024-10-20 15:37:44|2024-10-21 15:37:32|              1|         1.84|         1|                 N|         166|          42|           1|       12.1|  0.0|    0.5|      1.36|         0.0|                  1.0|       14.96|                 0.0|        0.0| 2024-10-20|  2024-10-21| 23.996666666666666|\n",
      "|       2|2024-10-14 22:22:20|2024-10-15 22:22:03|              1|         0.14|         1|                 N|         230|          48|           1|        5.1|  1.0|    0.5|       0.0|         0.0|                  1.0|        10.1|                 2.5|        0.0| 2024-10-14|  2024-10-15| 23.995277777777776|\n",
      "|       2|2024-10-02 21:04:07|2024-10-03 21:03:48|              1|        18.88|         2|                 N|         132|          79|           1|       70.0|  5.0|    0.5|     13.15|        6.94|                  1.0|      100.84|                 2.5|       1.75| 2024-10-02|  2024-10-03| 23.994722222222222|\n",
      "+--------+-------------------+-------------------+---------------+-------------+----------+------------------+------------+------------+------------+-----------+-----+-------+----------+------------+---------------------+------------+--------------------+-----------+-----------+------------+-------------------+\n",
      "only showing top 20 rows\n",
      "\n"
     ]
    }
   ],
   "source": [
    "df.orderBy(F.col('trip_duration_hours').desc()).show()"
   ]
  },
  {
   "cell_type": "code",
   "execution_count": 81,
   "metadata": {},
   "outputs": [],
   "source": [
    "zone_schema = types.StructType([\n",
    "    types.StructField(\"LocationID\", types.IntegerType(), True),\n",
    "    types.StructField(\"Borough\", types.StringType(), True),\n",
    "    types.StructField(\"Zone\", types.StringType(), True),\n",
    "    types.StructField(\"service_zone\", types.StringType(), True),\n",
    "])\n",
    "\n",
    "df_zones = spark.read \\\n",
    "    .option(\"header\", \"true\") \\\n",
    "    .schema(zone_schema)\\\n",
    "    .csv('./data/homework/taxi_zone_lookup.csv')"
   ]
  },
  {
   "cell_type": "code",
   "execution_count": 82,
   "metadata": {},
   "outputs": [],
   "source": [
    "output_path = \"./data/pq/homework/zones\"\n",
    "\n",
    "df_zones \\\n",
    "    .repartition(1) \\\n",
    "    .write.parquet(output_path, mode='overwrite')"
   ]
  },
  {
   "cell_type": "code",
   "execution_count": 83,
   "metadata": {},
   "outputs": [],
   "source": [
    "df_zones = spark.read.parquet('./data/pq/homework/zones/')"
   ]
  },
  {
   "cell_type": "code",
   "execution_count": 95,
   "metadata": {},
   "outputs": [
    {
     "name": "stdout",
     "output_type": "stream",
     "text": [
      "+----------+-------------+--------------------+------------+\n",
      "|LocationID|      Borough|                Zone|service_zone|\n",
      "+----------+-------------+--------------------+------------+\n",
      "|         1|          EWR|      Newark Airport|         EWR|\n",
      "|         2|       Queens|         Jamaica Bay|   Boro Zone|\n",
      "|         3|        Bronx|Allerton/Pelham G...|   Boro Zone|\n",
      "|         4|    Manhattan|       Alphabet City| Yellow Zone|\n",
      "|         5|Staten Island|       Arden Heights|   Boro Zone|\n",
      "|         6|Staten Island|Arrochar/Fort Wad...|   Boro Zone|\n",
      "|         7|       Queens|             Astoria|   Boro Zone|\n",
      "|         8|       Queens|        Astoria Park|   Boro Zone|\n",
      "|         9|       Queens|          Auburndale|   Boro Zone|\n",
      "|        10|       Queens|        Baisley Park|   Boro Zone|\n",
      "|        11|     Brooklyn|          Bath Beach|   Boro Zone|\n",
      "|        12|    Manhattan|        Battery Park| Yellow Zone|\n",
      "|        13|    Manhattan|   Battery Park City| Yellow Zone|\n",
      "|        14|     Brooklyn|           Bay Ridge|   Boro Zone|\n",
      "|        15|       Queens|Bay Terrace/Fort ...|   Boro Zone|\n",
      "|        16|       Queens|             Bayside|   Boro Zone|\n",
      "|        17|     Brooklyn|             Bedford|   Boro Zone|\n",
      "|        18|        Bronx|        Bedford Park|   Boro Zone|\n",
      "|        19|       Queens|           Bellerose|   Boro Zone|\n",
      "|        20|        Bronx|             Belmont|   Boro Zone|\n",
      "+----------+-------------+--------------------+------------+\n",
      "only showing top 20 rows\n",
      "\n"
     ]
    }
   ],
   "source": [
    "df_zones.show()"
   ]
  },
  {
   "cell_type": "code",
   "execution_count": 88,
   "metadata": {},
   "outputs": [],
   "source": [
    "df_result = df.join(df_zones, df.PULocationID == df_zones.LocationID)"
   ]
  },
  {
   "cell_type": "code",
   "execution_count": 96,
   "metadata": {},
   "outputs": [
    {
     "name": "stdout",
     "output_type": "stream",
     "text": [
      "+--------------------+------+\n",
      "|                Zone| count|\n",
      "+--------------------+------+\n",
      "|           Homecrest|   263|\n",
      "|              Corona|   496|\n",
      "|    Bensonhurst West|   312|\n",
      "|          Douglaston|    74|\n",
      "|      Newark Airport|   555|\n",
      "|Charleston/Totten...|     4|\n",
      "|          Mount Hope|   339|\n",
      "|      Pelham Parkway|   178|\n",
      "|East Concourse/Co...|   683|\n",
      "|         Marble Hill|    73|\n",
      "|           Rego Park|   471|\n",
      "|Upper East Side S...|191011|\n",
      "|       Dyker Heights|   172|\n",
      "|   Kew Gardens Hills|   245|\n",
      "|       Rikers Island|     2|\n",
      "|     Jackson Heights|  1760|\n",
      "|             Bayside|   117|\n",
      "|      Yorkville West| 69757|\n",
      "|TriBeCa/Civic Center| 53604|\n",
      "|          Highbridge|   426|\n",
      "+--------------------+------+\n",
      "only showing top 20 rows\n",
      "\n"
     ]
    }
   ],
   "source": [
    "df_result\\\n",
    "    .groupBy('Zone')\\\n",
    "    .count()\\\n",
    "    .show()"
   ]
  },
  {
   "cell_type": "code",
   "execution_count": null,
   "metadata": {},
   "outputs": [],
   "source": []
  }
 ],
 "metadata": {
  "kernelspec": {
   "display_name": "de-zoom-KMdy9pkv-py3.9",
   "language": "python",
   "name": "python3"
  },
  "language_info": {
   "codemirror_mode": {
    "name": "ipython",
    "version": 3
   },
   "file_extension": ".py",
   "mimetype": "text/x-python",
   "name": "python",
   "nbconvert_exporter": "python",
   "pygments_lexer": "ipython3",
   "version": "3.9.21"
  }
 },
 "nbformat": 4,
 "nbformat_minor": 2
}
